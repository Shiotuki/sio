{
  "nbformat": 4,
  "nbformat_minor": 0,
  "metadata": {
    "colab": {
      "name": "Untitled0.ipynb",
      "provenance": [],
      "collapsed_sections": []
    },
    "kernelspec": {
      "name": "python3",
      "display_name": "Python 3"
    },
    "language_info": {
      "name": "python"
    }
  },
  "cells": [
    {
      "cell_type": "code",
      "metadata": {
        "colab": {
          "base_uri": "https://localhost:8080/"
        },
        "id": "WTH5Ehu9scdP",
        "outputId": "03862186-7139-459c-e376-46a5f0112b4a"
      },
      "source": [
        "#Q1\n",
        "x = 2\n",
        "x * 3"
      ],
      "execution_count": null,
      "outputs": [
        {
          "output_type": "execute_result",
          "data": {
            "text/plain": [
              "6"
            ]
          },
          "metadata": {
            "tags": []
          },
          "execution_count": 85
        }
      ]
    },
    {
      "cell_type": "code",
      "metadata": {
        "colab": {
          "base_uri": "https://localhost:8080/"
        },
        "id": "HSJC0MMcsmYm",
        "outputId": "0c9c068f-bf81-4807-df2d-6b484638a3ac"
      },
      "source": [
        "#Q2\n",
        "a = 100\n",
        "b = 200\n",
        "a = 200\n",
        "b = 100\n",
        "print(a,b)"
      ],
      "execution_count": null,
      "outputs": [
        {
          "output_type": "stream",
          "text": [
            "200 100\n"
          ],
          "name": "stdout"
        }
      ]
    },
    {
      "cell_type": "code",
      "metadata": {
        "colab": {
          "base_uri": "https://localhost:8080/"
        },
        "id": "Z-plqH6itNA7",
        "outputId": "9a46e519-ddcc-49ef-c1e6-15333b6e8d97"
      },
      "source": [
        "#Q3\n",
        "a = 10\n",
        "b = 2\n",
        "print(a + b ,a - b ,a * b ,a // b)"
      ],
      "execution_count": null,
      "outputs": [
        {
          "output_type": "stream",
          "text": [
            "12 8 20 5\n"
          ],
          "name": "stdout"
        }
      ]
    },
    {
      "cell_type": "code",
      "metadata": {
        "colab": {
          "base_uri": "https://localhost:8080/"
        },
        "id": "1Y_S_h0c2RKA",
        "outputId": "8e61b5b4-a362-4d5b-c2f4-5b7a798dffcd"
      },
      "source": [
        "#Q4\n",
        "-(-a // b)"
      ],
      "execution_count": null,
      "outputs": [
        {
          "output_type": "execute_result",
          "data": {
            "text/plain": [
              "2"
            ]
          },
          "metadata": {
            "tags": []
          },
          "execution_count": 110
        }
      ]
    },
    {
      "cell_type": "code",
      "metadata": {
        "colab": {
          "base_uri": "https://localhost:8080/"
        },
        "id": "H-Jhql0E264x",
        "outputId": "77c0dce9-121e-4a74-c048-9bf706efdfcb"
      },
      "source": [
        "#Q5\n",
        "a = 5\n",
        "b = 10\n",
        "print(a ** b)"
      ],
      "execution_count": null,
      "outputs": [
        {
          "output_type": "stream",
          "text": [
            "9765625\n"
          ],
          "name": "stdout"
        }
      ]
    },
    {
      "cell_type": "code",
      "metadata": {
        "colab": {
          "base_uri": "https://localhost:8080/"
        },
        "id": "W-pNvUlf3jM9",
        "outputId": "fc69e3f6-bb71-4456-ff5d-4fd7a0b47481"
      },
      "source": [
        "#Q6\n",
        "a = 5\n",
        "b = 10\n",
        "if a < b:\n",
        "    print(\"bは10です\")\n",
        "else:\n",
        "    print(\"違います。\")"
      ],
      "execution_count": null,
      "outputs": [
        {
          "output_type": "stream",
          "text": [
            "bは10です\n"
          ],
          "name": "stdout"
        }
      ]
    },
    {
      "cell_type": "code",
      "metadata": {
        "colab": {
          "base_uri": "https://localhost:8080/"
        },
        "id": "-GCXT_Kw4Uy3",
        "outputId": "a69800ea-882b-4e8c-b418-23705b7025d5"
      },
      "source": [
        "#Q7\n",
        "a = 5\n",
        "if a % 2==0:\n",
        "    print(\"True\")\n",
        "else:\n",
        "    print(\"False\")"
      ],
      "execution_count": null,
      "outputs": [
        {
          "output_type": "stream",
          "text": [
            "False\n"
          ],
          "name": "stdout"
        }
      ]
    },
    {
      "cell_type": "code",
      "metadata": {
        "colab": {
          "base_uri": "https://localhost:8080/"
        },
        "id": "wpuc6WFc_mvN",
        "outputId": "6eff437d-e060-4b34-8206-66b409f6479b"
      },
      "source": [
        "#Q8\n",
        "a = \"python\"\n",
        "print(a[2])"
      ],
      "execution_count": null,
      "outputs": [
        {
          "output_type": "stream",
          "text": [
            "t\n"
          ],
          "name": "stdout"
        }
      ]
    },
    {
      "cell_type": "code",
      "metadata": {
        "colab": {
          "base_uri": "https://localhost:8080/"
        },
        "id": "YfkfqX84CeJF",
        "outputId": "73561efb-1047-46d1-dd56-82b95e89e38c"
      },
      "source": [
        "#Q9\n",
        "a = \"py\"\n",
        "b = \"thon\"\n",
        "c = a + b\n",
        "print(c)"
      ],
      "execution_count": null,
      "outputs": [
        {
          "output_type": "stream",
          "text": [
            "python\n"
          ],
          "name": "stdout"
        }
      ]
    },
    {
      "cell_type": "code",
      "metadata": {
        "colab": {
          "base_uri": "https://localhost:8080/"
        },
        "id": "4FzK3a9TCsZ7",
        "outputId": "b22e0bb0-6f25-49f2-932c-7cd71461426e"
      },
      "source": [
        "#Q10 変数aに5を，変数bに3を代入し，これらの変数を用いて'5%3=2'という文字列を出力してください．\n",
        "a = 5\n",
        "b = 3\n",
        "print(a,\"%\",b,\"=2\")"
      ],
      "execution_count": null,
      "outputs": [
        {
          "output_type": "stream",
          "text": [
            "5 % 3 =2\n"
          ],
          "name": "stdout"
        }
      ]
    },
    {
      "cell_type": "code",
      "metadata": {
        "colab": {
          "base_uri": "https://localhost:8080/"
        },
        "id": "o_WRi7sMD1PO",
        "outputId": "a12f19f8-677a-4578-c615-80484e42a762"
      },
      "source": [
        "#Q11 変数に文字列'some1'を代入し，この文字列中の1をoneに変換してください\n",
        "s1 = \"some1\"\n",
        "s2 = s1.replace(\"1\",\"one\")\n",
        "print(s2)"
      ],
      "execution_count": null,
      "outputs": [
        {
          "output_type": "stream",
          "text": [
            "someone\n"
          ],
          "name": "stdout"
        }
      ]
    },
    {
      "cell_type": "code",
      "metadata": {
        "colab": {
          "base_uri": "https://localhost:8080/",
          "height": 36
        },
        "id": "wbrOohoxHVLZ",
        "outputId": "e2d512f4-95d4-4390-bcc9-9171858f7b97"
      },
      "source": [
        "#Q12 変数に文字列'This Is A Sentence .'を代入し，この文字列を全て小文字に変換してください\n",
        "s1 = \"This Is A Sentence\"\n",
        "s1.lower()"
      ],
      "execution_count": null,
      "outputs": [
        {
          "output_type": "execute_result",
          "data": {
            "application/vnd.google.colaboratory.intrinsic+json": {
              "type": "string"
            },
            "text/plain": [
              "'this is a sentence'"
            ]
          },
          "metadata": {
            "tags": []
          },
          "execution_count": 154
        }
      ]
    },
    {
      "cell_type": "code",
      "metadata": {
        "colab": {
          "base_uri": "https://localhost:8080/",
          "height": 36
        },
        "id": "iemhW9h6H2Ke",
        "outputId": "257352e8-fc60-47f8-b4a2-c83aea8d8ad2"
      },
      "source": [
        "#Q13 変数に文字列'This Is A Sentence .'を代入し，この文字列を全て大文字に変換してください\n",
        "s1 = \"This Is A Sentence\"\n",
        "s1.upper()"
      ],
      "execution_count": null,
      "outputs": [
        {
          "output_type": "execute_result",
          "data": {
            "application/vnd.google.colaboratory.intrinsic+json": {
              "type": "string"
            },
            "text/plain": [
              "'THIS IS A SENTENCE'"
            ]
          },
          "metadata": {
            "tags": []
          },
          "execution_count": 155
        }
      ]
    },
    {
      "cell_type": "code",
      "metadata": {
        "colab": {
          "base_uri": "https://localhost:8080/"
        },
        "id": "Pw0_XndyIi6k",
        "outputId": "c9c04e74-7399-4222-ee39-b2c14ce268b5"
      },
      "source": [
        "#Q14 変数に文字列'How many characters?'を代入し，この文字列の文字数を出力してください．空白も含めるものとします．\n",
        "s = \"How many characters?\"\n",
        "print(len(s))"
      ],
      "execution_count": null,
      "outputs": [
        {
          "output_type": "stream",
          "text": [
            "20\n"
          ],
          "name": "stdout"
        }
      ]
    },
    {
      "cell_type": "code",
      "metadata": {
        "colab": {
          "base_uri": "https://localhost:8080/"
        },
        "id": "9Yyv1OrfQAjS",
        "outputId": "d69d6d32-9309-4edd-e298-e4994a72ce6a"
      },
      "source": [
        "#Q15 変数aに文字列'34'を代入し，変数bに文字列'43'を代入し，これらを数字と見なした時の和を出力してください\n",
        "a = \"34\"\n",
        "b = \"43\"\n",
        "print(int(a) + int(b))"
      ],
      "execution_count": null,
      "outputs": [
        {
          "output_type": "stream",
          "text": [
            "77\n"
          ],
          "name": "stdout"
        }
      ]
    },
    {
      "cell_type": "code",
      "metadata": {
        "id": "d7MSrz-jQVQm",
        "colab": {
          "base_uri": "https://localhost:8080/"
        },
        "outputId": "f54c0eca-f880-4d3d-c2b4-e17397eee8d5"
      },
      "source": [
        "#Q16 変数にリスト[1,2,3,4,5]を代入し，(先頭を0番目として)3番目の要素を出力してください\n",
        "a = [1,2,3,4,5]\n",
        "print(a[3])"
      ],
      "execution_count": null,
      "outputs": [
        {
          "output_type": "stream",
          "text": [
            "4\n"
          ],
          "name": "stdout"
        }
      ]
    },
    {
      "cell_type": "code",
      "metadata": {
        "colab": {
          "base_uri": "https://localhost:8080/"
        },
        "id": "_rsFPrpngVX8",
        "outputId": "9f074887-8cd4-4dce-8944-4612673eed8f"
      },
      "source": [
        "#Q17 変数li1に[1,2,3]のリストを代入，変数li2に[4,5]のリストを代入し，2つのリストを結合して出力してください\n",
        "li1 = [1,2,3]\n",
        "li2 = [4,5]\n",
        "li1.extend(li2)\n",
        "print(li1)"
      ],
      "execution_count": null,
      "outputs": [
        {
          "output_type": "stream",
          "text": [
            "[1, 2, 3, 4, 5]\n"
          ],
          "name": "stdout"
        }
      ]
    },
    {
      "cell_type": "code",
      "metadata": {
        "colab": {
          "base_uri": "https://localhost:8080/"
        },
        "id": "SmZvP9ow22tV",
        "outputId": "95160116-4747-4f3f-efbd-71d44bdbbca8"
      },
      "source": [
        "#Q18変数にリスト[1,2,3,4,5]を代入し，このリストの末尾に6,7を1つずつ順番に追加してください．その後，最終的なリストを出力してください．\n",
        "a = [1,2,3,4,5]\n",
        "b = [6,7]\n",
        "a.extend(b)\n",
        "print(a)"
      ],
      "execution_count": null,
      "outputs": [
        {
          "output_type": "stream",
          "text": [
            "[1, 2, 3, 4, 5, 6, 7]\n"
          ],
          "name": "stdout"
        }
      ]
    },
    {
      "cell_type": "code",
      "metadata": {
        "colab": {
          "base_uri": "https://localhost:8080/"
        },
        "id": "ei_5otTqN1Cc",
        "outputId": "d101fae3-1552-4b84-8c92-ff04cc7b1df9"
      },
      "source": [
        "#Q19 変数にリスト[1,2,3,4,5]を作成し，先頭を0番目としたときに，0番目と1番目の間に100を挿入してください\n",
        "a = [1,2,3,4,5]\n",
        "a.insert(1,100)\n",
        "print(a)"
      ],
      "execution_count": null,
      "outputs": [
        {
          "output_type": "stream",
          "text": [
            "[1, 100, 2, 3, 4, 5]\n"
          ],
          "name": "stdout"
        }
      ]
    },
    {
      "cell_type": "code",
      "metadata": {
        "colab": {
          "base_uri": "https://localhost:8080/"
        },
        "id": "MLbNzHZBPOAx",
        "outputId": "43cce6d2-2b66-4ea5-bbbc-f3cdb3c3013a"
      },
      "source": [
        "#Q20 変数に[1,2,3,4,5]の5つの要素を持つリストを格納して，偶数の要素だけ出力してください．出力形式は問いません\n",
        "a = [1,2,3,4,5]\n",
        "for a in range(1,5):\n",
        "  if a % 2 == 0:\n",
        "    print(a)"
      ],
      "execution_count": null,
      "outputs": [
        {
          "output_type": "stream",
          "text": [
            "2\n",
            "4\n"
          ],
          "name": "stdout"
        }
      ]
    },
    {
      "cell_type": "code",
      "metadata": {
        "colab": {
          "base_uri": "https://localhost:8080/"
        },
        "id": "N1DQPJQPXX_N",
        "outputId": "002be891-95fe-418a-b637-c86c0f2690c8"
      },
      "source": [
        "#Q21変数に[1,2,3,4,5]の5つの要素を持つリストを格納して，添え字が偶数番目の要素だけ出力してください．出力形式は問いません．ただし，先頭の添え字を0番目とします\n",
        "a = [1,2,3,4,5]\n",
        "print(a[0::2])"
      ],
      "execution_count": null,
      "outputs": [
        {
          "output_type": "stream",
          "text": [
            "[1, 3, 5]\n"
          ],
          "name": "stdout"
        }
      ]
    },
    {
      "cell_type": "code",
      "metadata": {
        "colab": {
          "base_uri": "https://localhost:8080/"
        },
        "id": "0h1iz0rnbe5e",
        "outputId": "cf711b5c-de03-4125-d0a8-a26f841c4d56"
      },
      "source": [
        "#Q22 変数にリスト[11,22,33,44,55,66]を代入し，リストの要素数を出力してください．\n",
        "a = [11,22,33,44,55,66]\n",
        "print(len(a))\n"
      ],
      "execution_count": null,
      "outputs": [
        {
          "output_type": "stream",
          "text": [
            "6\n"
          ],
          "name": "stdout"
        }
      ]
    },
    {
      "cell_type": "code",
      "metadata": {
        "colab": {
          "base_uri": "https://localhost:8080/"
        },
        "id": "-QBq5rTScXLA",
        "outputId": "b7d90e44-11d9-4d63-bc06-89485a1185f6"
      },
      "source": [
        "#Q23 リスト[11,22,33,44,55]に，値44が存在するかどうかをifを用いて判定してください．存在すればTrue，そうでなければFalseを出力します\n",
        "a = [11,22,33,44,55]\n",
        "x = 44\n",
        "if x in a:\n",
        "    print(\"true\")\n",
        "else:\n",
        "    print(\"WTF\")"
      ],
      "execution_count": null,
      "outputs": [
        {
          "output_type": "stream",
          "text": [
            "true\n"
          ],
          "name": "stdout"
        }
      ]
    },
    {
      "cell_type": "code",
      "metadata": {
        "colab": {
          "base_uri": "https://localhost:8080/"
        },
        "id": "9XqqdUOcdT4s",
        "outputId": "923b37a9-f752-4ec6-98ca-64204c4506b4"
      },
      "source": [
        "#Q24 変数に[1,2,3,4,5]の5つの要素を持つリストを格納して，リストの先頭の要素と末尾の要素をタプルとして格納し，出力してください\n",
        "a = [1,2,3,4,5]\n",
        "a = 1,5\n",
        "print(a)"
      ],
      "execution_count": null,
      "outputs": [
        {
          "output_type": "stream",
          "text": [
            "(1, 5)\n"
          ],
          "name": "stdout"
        }
      ]
    },
    {
      "cell_type": "code",
      "metadata": {
        "colab": {
          "base_uri": "https://localhost:8080/"
        },
        "id": "PVxWDN0hldjG",
        "outputId": "85802449-fceb-4e8e-ae6f-2e13d8b4e86c"
      },
      "source": [
        "#Q25 26 変数に，値の組みとして{'A':1, 'B':2, 'C':3, 'D':4, 'E':5}を持つ辞書を格納して，出力してください\n",
        "a = {\"A\":1,\"B\":2,\"C\":3,\"D\":4,\"E\":5}\n",
        "b = a.keys()\n",
        "print(b)"
      ],
      "execution_count": null,
      "outputs": [
        {
          "output_type": "stream",
          "text": [
            "dict_keys(['A', 'B', 'C', 'D', 'E'])\n"
          ],
          "name": "stdout"
        }
      ]
    },
    {
      "cell_type": "code",
      "metadata": {
        "colab": {
          "base_uri": "https://localhost:8080/"
        },
        "id": "iGC87ceIlyJG",
        "outputId": "022f7c72-5f8c-450d-f2e6-d7017d830254"
      },
      "source": [
        "#Q27 変数に，値の組みとして{'A':1, 'B':2, 'C':3, 'D':4, 'E':5}を持つ辞書を格納して，値（バリュー）を要素としたリストを作成し，出力してください\n",
        "c = a.values()\n",
        "print(c)"
      ],
      "execution_count": null,
      "outputs": [
        {
          "output_type": "stream",
          "text": [
            "dict_values([1, 2, 3, 4, 5])\n"
          ],
          "name": "stdout"
        }
      ]
    },
    {
      "cell_type": "code",
      "metadata": {
        "colab": {
          "base_uri": "https://localhost:8080/"
        },
        "id": "1bPCfqSapuza",
        "outputId": "b709b8df-101b-4c93-f94f-758d86cbefdd"
      },
      "source": [
        "#Q28 変数に，値の組みとして{'A':1, 'B':2, 'C':3, 'D':4, 'E':5}を持つ辞書を格納して，キーと値（バリュー）の組みのタプルを要素としたリストを作成し，出力してください．\n",
        "#期待する出力：[('A', 1), ('B', 2), ('C', 3), ('D', 4), ('E', 5)]\n",
        "a = {(\"A\",1):6,(\"B\",2):7,(\"C\",3):8,(\"D\",4):9,(\"E\",5):10}\n",
        "b = a.keys()\n",
        "print(b)\n"
      ],
      "execution_count": null,
      "outputs": [
        {
          "output_type": "stream",
          "text": [
            "dict_keys([('A', 1), ('B', 2), ('C', 3), ('D', 4), ('E', 5)])\n"
          ],
          "name": "stdout"
        }
      ]
    },
    {
      "cell_type": "code",
      "metadata": {
        "id": "UkxzruKttt9w",
        "colab": {
          "base_uri": "https://localhost:8080/"
        },
        "outputId": "5b2a0b6b-c05f-4ad5-9a95-3fe73cde1513"
      },
      "source": [
        "#Q29 d = {'apple':10, 'grape':20, 'orange':30} \n",
        "#この辞書に対して，'apple'というキーが存在するかを確認し，存在しなければ，'apple'というキーに対して-1という値を追加してください．\n",
        "#また，同様のことを'pineapple'でも行なってください．その後，最終的な辞書を出力してください．\n",
        "#期待する出力：{'apple': 10, 'grape': 20, 'orange': 30, 'pineapple': -1}\n",
        "d = {'apple':10, 'grape':20, 'orange':30}\n",
        "print(\"pineapple\" in d)\n",
        "d[\"pineapple\"] = -1\n",
        "print(d)"
      ],
      "execution_count": null,
      "outputs": [
        {
          "output_type": "stream",
          "text": [
            "False\n",
            "{'apple': 10, 'grape': 20, 'orange': 30, 'pineapple': -1}\n"
          ],
          "name": "stdout"
        }
      ]
    },
    {
      "cell_type": "code",
      "metadata": {
        "colab": {
          "base_uri": "https://localhost:8080/",
          "height": 36
        },
        "id": "zdYurUQLhc5P",
        "outputId": "4f427583-dfee-47a5-a014-7809ecdaf81b"
      },
      "source": [
        "#Q30 変数に文字列'training'を代入し，先頭を0番目として，1番目から4番目までを取り出して出力してください\n",
        "a = \"training\"\n",
        "a[1:5]"
      ],
      "execution_count": null,
      "outputs": [
        {
          "output_type": "execute_result",
          "data": {
            "application/vnd.google.colaboratory.intrinsic+json": {
              "type": "string"
            },
            "text/plain": [
              "'rain'"
            ]
          },
          "metadata": {
            "tags": []
          },
          "execution_count": 16
        }
      ]
    },
    {
      "cell_type": "code",
      "metadata": {
        "colab": {
          "base_uri": "https://localhost:8080/",
          "height": 36
        },
        "id": "aDHK4j41kWNk",
        "outputId": "cb5a5465-bd7f-4044-af57-e826ab3531d6"
      },
      "source": [
        "#Q31 変数に文字列'understand'を代入し，先頭を0番目として，奇数番目の文字列だけを取り出した文字列を出力してください\n",
        "# 期待する出力：nesad\n",
        "a = \"understand\"\n",
        "a[1: :2]"
      ],
      "execution_count": null,
      "outputs": [
        {
          "output_type": "execute_result",
          "data": {
            "application/vnd.google.colaboratory.intrinsic+json": {
              "type": "string"
            },
            "text/plain": [
              "'nesad'"
            ]
          },
          "metadata": {
            "tags": []
          },
          "execution_count": 47
        }
      ]
    },
    {
      "cell_type": "code",
      "metadata": {
        "colab": {
          "base_uri": "https://localhost:8080/"
        },
        "id": "KaLlIrkwmdrr",
        "outputId": "a9c09c93-25b0-49df-e689-c182a6f3d8d1"
      },
      "source": [
        "#Q32 変数にリスト[1,2,3,4,5]を格納して，これを逆順に出力してください．\n",
        "#期待する出力：[5,4,3,2,1]\n",
        "a = [1,2,3,4,5]\n",
        "a[::-1]"
      ],
      "execution_count": null,
      "outputs": [
        {
          "output_type": "execute_result",
          "data": {
            "text/plain": [
              "[5, 4, 3, 2, 1]"
            ]
          },
          "metadata": {
            "tags": []
          },
          "execution_count": 50
        }
      ]
    },
    {
      "cell_type": "code",
      "metadata": {
        "colab": {
          "base_uri": "https://localhost:8080/"
        },
        "id": "SrGJ85jPnsrd",
        "outputId": "f755e765-7e41-41bc-c355-acff5a52d0b0"
      },
      "source": [
        "#Q33 変数にリスト[1,1,2,3,3,4,5]を代入し，このリストを集合に変換して出力してください．\n",
        "#期待する出力：{1,2,3,4,5}\n",
        "a = [1,1,2,3,3,4,5]\n",
        "a1 = set(a)\n",
        "print(a1)"
      ],
      "execution_count": null,
      "outputs": [
        {
          "output_type": "stream",
          "text": [
            "{1, 2, 3, 4, 5}\n"
          ],
          "name": "stdout"
        }
      ]
    },
    {
      "cell_type": "code",
      "metadata": {
        "colab": {
          "base_uri": "https://localhost:8080/"
        },
        "id": "GQrEDpC2z6IW",
        "outputId": "76457f4d-4fe8-4173-f0a7-f446a18e0937"
      },
      "source": [
        "#Q34 変数set1に集合{1,2,3,4,5}，変数set2に集合{3,4,5,6,7}を代入し，積集合を出力してください\n",
        "#期待する出力：{3,4,5}\n",
        "a = {1,2,3,4,5}\n",
        "b = {3,4,5,6,7}\n",
        "c = a & b\n",
        "print(c)"
      ],
      "execution_count": null,
      "outputs": [
        {
          "output_type": "stream",
          "text": [
            "{3, 4, 5}\n"
          ],
          "name": "stdout"
        }
      ]
    },
    {
      "cell_type": "code",
      "metadata": {
        "colab": {
          "base_uri": "https://localhost:8080/"
        },
        "id": "PwQ-H8hn4TDU",
        "outputId": "25450d46-147a-4a13-d3ad-ba63bb75fed3"
      },
      "source": [
        "#Q35 変数set1に集合{1,2,3,4,5}，変数set2に集合{3,4,5,6,7}を代入し，和集合を出力してください\n",
        "#期待する出力：{1,2,3,4,5,6,7}\n",
        "a = {1,2,3,4,5}\n",
        "b = {3,4,5,6,7}\n",
        "c = a | b\n",
        "print(c)"
      ],
      "execution_count": null,
      "outputs": [
        {
          "output_type": "stream",
          "text": [
            "{1, 2, 3, 4, 5, 6, 7}\n"
          ],
          "name": "stdout"
        }
      ]
    },
    {
      "cell_type": "code",
      "metadata": {
        "colab": {
          "base_uri": "https://localhost:8080/"
        },
        "id": "3-yhcJvG49X8",
        "outputId": "9d4214d7-f9c7-4a4e-d556-0c1264e55cf0"
      },
      "source": [
        "#Q36 変数set1に集合{1,2,3,4,5}，変数set2に集合{3,4,5,6,7}を代入し，差集合を出力してください\n",
        "#期待する出力：{1,2}\n",
        "a = {1,2,3,4,5}\n",
        "b = {3,4,5,6,7}\n",
        "c = a - b\n",
        "print(c)"
      ],
      "execution_count": null,
      "outputs": [
        {
          "output_type": "stream",
          "text": [
            "{1, 2}\n"
          ],
          "name": "stdout"
        }
      ]
    },
    {
      "cell_type": "code",
      "metadata": {
        "colab": {
          "base_uri": "https://localhost:8080/"
        },
        "id": "bz44C4W-5fLw",
        "outputId": "7c4b3983-e127-42e3-90f2-7f6c01a9e126"
      },
      "source": [
        "#Q37 3つの変数に以下のように代入したコードがあります．各変数の型を出力してください．出力形式は問いません\n",
        "#data1 = {'A':1, 'B':2}\n",
        "#data2 = \"hoge\"\n",
        "#data3 = {1,2,3,4,5}\n",
        "#期待する出力：<class 'dict'> <class 'str'> <class 'set'>\n",
        "data1 = {'A':1,'B':2}\n",
        "data2 = \"hoge\"\n",
        "data3 = {1,2,3,4,5}\n",
        "print(type(data1))\n",
        "print(type(data2))\n",
        "print(type(data3))"
      ],
      "execution_count": null,
      "outputs": [
        {
          "output_type": "stream",
          "text": [
            "<class 'dict'>\n",
            "<class 'str'>\n",
            "<class 'set'>\n"
          ],
          "name": "stdout"
        }
      ]
    },
    {
      "cell_type": "code",
      "metadata": {
        "id": "f91Vxp5L6M7E",
        "colab": {
          "base_uri": "https://localhost:8080/",
          "height": 36
        },
        "outputId": "1a6cb9c0-aedc-4fef-8303-9679ca4d9f7c"
      },
      "source": [
        "#Q38 文字列'This is sentence .\\n'の改行記号を消したものを出力してください．\n",
        "#期待する出力：This is sentence .\n",
        "\"This is sentence .\\n'\".replace(\".\\n'\",\".\")"
      ],
      "execution_count": null,
      "outputs": [
        {
          "output_type": "execute_result",
          "data": {
            "application/vnd.google.colaboratory.intrinsic+json": {
              "type": "string"
            },
            "text/plain": [
              "'This is sentence .'"
            ]
          },
          "metadata": {
            "tags": []
          },
          "execution_count": 5
        }
      ]
    },
    {
      "cell_type": "code",
      "metadata": {
        "id": "4ux88U2hZad6",
        "colab": {
          "base_uri": "https://localhost:8080/"
        },
        "outputId": "e30ececb-49fd-49f6-b316-5b01e5ff31a9"
      },
      "source": [
        "#Q39 変数に文字列'C C++ // python java'を代入し，この文字列を空白で区切った後のリストを出力してください，また，同じことを'/'でも行い，出力してください．\n",
        "#期待する出力：['C', 'C++', '//', 'python', 'java'],['C C++ ', '', ' python java']\n",
        "a = 'C C++ // python java'\n",
        "print(a.split())\n",
        "print(type(a.split()))\n",
        "print(a.split('/'))"
      ],
      "execution_count": 3,
      "outputs": [
        {
          "output_type": "stream",
          "text": [
            "['C', 'C++', '//', 'python', 'java']\n",
            "<class 'list'>\n",
            "['C C++ ', '', ' python java']\n"
          ],
          "name": "stdout"
        }
      ]
    },
    {
      "cell_type": "code",
      "metadata": {
        "colab": {
          "base_uri": "https://localhost:8080/"
        },
        "id": "HjY3MeZyZFkb",
        "outputId": "1e4d60c3-9541-4ef0-8180-5126ba14f694"
      },
      "source": [
        "#Q40 変数にリスト['This', 'is', 'a', 'sentence']を代入し，これらを空白区切で結合した文字列を出力してください．\n",
        "#期待する出力：This is a sentence\n",
        "a = ['This', 'is', 'a', 'sentence']\n",
        "print(' '.join(a))"
      ],
      "execution_count": 10,
      "outputs": [
        {
          "output_type": "stream",
          "text": [
            "This is a sentence\n"
          ],
          "name": "stdout"
        }
      ]
    },
    {
      "cell_type": "code",
      "metadata": {
        "colab": {
          "base_uri": "https://localhost:8080/"
        },
        "id": "QibarGyba5vL",
        "outputId": "6edd4eef-390f-47f5-e47c-98dc1fdfb76a"
      },
      "source": [
        "#Q41 変数にリスト[11,2,7,13,5]を代入し，最大値を出力してください．\n",
        "#期待する出力：13\n",
        "a = [11,2,7,13,5]\n",
        "print(max(a))"
      ],
      "execution_count": 11,
      "outputs": [
        {
          "output_type": "stream",
          "text": [
            "13\n"
          ],
          "name": "stdout"
        }
      ]
    },
    {
      "cell_type": "code",
      "metadata": {
        "colab": {
          "base_uri": "https://localhost:8080/"
        },
        "id": "JZBXyRJHba3n",
        "outputId": "91e8e3d7-85b4-4f36-9349-6c75361fa84e"
      },
      "source": [
        "#Q42 変数にリスト[11,2,7,13,5]を代入し，最小値を出力してください．\n",
        "#期待する出力：2\n",
        "print(min(a))"
      ],
      "execution_count": 12,
      "outputs": [
        {
          "output_type": "stream",
          "text": [
            "2\n"
          ],
          "name": "stdout"
        }
      ]
    },
    {
      "cell_type": "code",
      "metadata": {
        "colab": {
          "base_uri": "https://localhost:8080/"
        },
        "id": "BRk8tcR-bjjC",
        "outputId": "22babde6-f629-4b91-c7d5-3a9c639b4fe3"
      },
      "source": [
        "#Q43 変数にリスト[11,2,7,13,5]を代入し，総和を出力してください．\n",
        "#期待する出力：38\n",
        "print(sum(a))"
      ],
      "execution_count": 13,
      "outputs": [
        {
          "output_type": "stream",
          "text": [
            "38\n"
          ],
          "name": "stdout"
        }
      ]
    },
    {
      "cell_type": "code",
      "metadata": {
        "colab": {
          "base_uri": "https://localhost:8080/"
        },
        "id": "YmDEjl5Bbtnh",
        "outputId": "c39df8af-f2cf-4ec0-ee2a-57c87a32dd89"
      },
      "source": [
        "#Q44 変数にリスト[5,3,1,4,2]を格納し，昇順に並び替えたリストを出力してください．\n",
        "#期待する出力：[1,2,3,4,5]\n",
        "a = [5,3,1,4,2]\n",
        "b = sorted(a)\n",
        "print(b)"
      ],
      "execution_count": 14,
      "outputs": [
        {
          "output_type": "stream",
          "text": [
            "[1, 2, 3, 4, 5]\n"
          ],
          "name": "stdout"
        }
      ]
    },
    {
      "cell_type": "code",
      "metadata": {
        "colab": {
          "base_uri": "https://localhost:8080/",
          "height": 227
        },
        "id": "gmaCKmPNcHDx",
        "outputId": "cc0e8262-61fe-4fa5-f8cc-71b8df27e854"
      },
      "source": [
        "#Q45 いま，辞書を要素とするリストが次のように与えられています．\n",
        "#li = [{'a': 6, 'b': 7, 'c': 6},\n",
        "#     {'a': 4, 'b': 2, 'c': 3},\n",
        "#     {'a': 1, 'b': 5, 'c': 8}]\n",
        "#このとき，辞書のキーが'b'の値に関して降順になるようにソートしてください．\n",
        "#期待する出力：[{'a': 6, 'b': 7, 'c': 6}, {'a': 1, 'b': 5, 'c': 8}, {'a': 4, 'b': 2, 'c': 3}]\n",
        "li = [{'a': 6, 'b': 7, 'c': 6},\n",
        "     {'a': 4, 'b': 2, 'c': 3},\n",
        "     {'a': 1, 'b': 5, 'c': 8}]\n",
        "li1 = sort(li)\n",
        "print(li1)"
      ],
      "execution_count": 19,
      "outputs": [
        {
          "output_type": "error",
          "ename": "NameError",
          "evalue": "ignored",
          "traceback": [
            "\u001b[0;31m---------------------------------------------------------------------------\u001b[0m",
            "\u001b[0;31mNameError\u001b[0m                                 Traceback (most recent call last)",
            "\u001b[0;32m<ipython-input-19-8c67f3ad4390>\u001b[0m in \u001b[0;36m<module>\u001b[0;34m()\u001b[0m\n\u001b[1;32m      8\u001b[0m      \u001b[0;34m{\u001b[0m\u001b[0;34m'a'\u001b[0m\u001b[0;34m:\u001b[0m \u001b[0;36m4\u001b[0m\u001b[0;34m,\u001b[0m \u001b[0;34m'b'\u001b[0m\u001b[0;34m:\u001b[0m \u001b[0;36m2\u001b[0m\u001b[0;34m,\u001b[0m \u001b[0;34m'c'\u001b[0m\u001b[0;34m:\u001b[0m \u001b[0;36m3\u001b[0m\u001b[0;34m}\u001b[0m\u001b[0;34m,\u001b[0m\u001b[0;34m\u001b[0m\u001b[0;34m\u001b[0m\u001b[0m\n\u001b[1;32m      9\u001b[0m      {'a': 1, 'b': 5, 'c': 8}]\n\u001b[0;32m---> 10\u001b[0;31m \u001b[0mli1\u001b[0m \u001b[0;34m=\u001b[0m \u001b[0msort\u001b[0m\u001b[0;34m(\u001b[0m\u001b[0mli\u001b[0m\u001b[0;34m)\u001b[0m\u001b[0;34m\u001b[0m\u001b[0;34m\u001b[0m\u001b[0m\n\u001b[0m\u001b[1;32m     11\u001b[0m \u001b[0mprint\u001b[0m\u001b[0;34m(\u001b[0m\u001b[0mli1\u001b[0m\u001b[0;34m)\u001b[0m\u001b[0;34m\u001b[0m\u001b[0;34m\u001b[0m\u001b[0m\n",
            "\u001b[0;31mNameError\u001b[0m: name 'sort' is not defined"
          ]
        }
      ]
    },
    {
      "cell_type": "code",
      "metadata": {
        "colab": {
          "base_uri": "https://localhost:8080/"
        },
        "id": "5JZ9POnEeICe",
        "outputId": "993234bd-a984-4945-e42c-9ef6f6a32c6c"
      },
      "source": [
        "#Q46 0から99の100の要素からなるリストを出力してください．\n",
        "#期待する出力：[0,1,2....,99]\n",
        "a = range(0,100)\n",
        "print(a)\n",
        "print(list(a))\n"
      ],
      "execution_count": 37,
      "outputs": [
        {
          "output_type": "stream",
          "text": [
            "range(0, 100)\n",
            "[0, 1, 2, 3, 4, 5, 6, 7, 8, 9, 10, 11, 12, 13, 14, 15, 16, 17, 18, 19, 20, 21, 22, 23, 24, 25, 26, 27, 28, 29, 30, 31, 32, 33, 34, 35, 36, 37, 38, 39, 40, 41, 42, 43, 44, 45, 46, 47, 48, 49, 50, 51, 52, 53, 54, 55, 56, 57, 58, 59, 60, 61, 62, 63, 64, 65, 66, 67, 68, 69, 70, 71, 72, 73, 74, 75, 76, 77, 78, 79, 80, 81, 82, 83, 84, 85, 86, 87, 88, 89, 90, 91, 92, 93, 94, 95, 96, 97, 98, 99]\n"
          ],
          "name": "stdout"
        }
      ]
    },
    {
      "cell_type": "code",
      "metadata": {
        "colab": {
          "base_uri": "https://localhost:8080/"
        },
        "id": "NQHaut13gB6Q",
        "outputId": "8c5b1dd2-ccd3-4fa4-a198-14993bf368d9"
      },
      "source": [
        "#Q47 変数にリスト[5,4,3,2,1]を代入し，要素と添字の値（先頭を0とする）を足し合わせた数値を要素に持つリストを新たに作成してください．\n",
        "#内包表記を使うと便利です\n",
        "#期待する出力：[5,5,5,5,5]\n",
        "a = [5,4,3,2,1]\n",
        "print(a.reverse())"
      ],
      "execution_count": 50,
      "outputs": [
        {
          "output_type": "stream",
          "text": [
            "None\n"
          ],
          "name": "stdout"
        }
      ]
    },
    {
      "cell_type": "code",
      "metadata": {
        "id": "YRu8d1jnjcRt"
      },
      "source": [
        "#Q48"
      ],
      "execution_count": null,
      "outputs": []
    },
    {
      "cell_type": "code",
      "metadata": {
        "id": "Nohn0XSFje-f"
      },
      "source": [
        "#Q49"
      ],
      "execution_count": null,
      "outputs": []
    },
    {
      "cell_type": "code",
      "metadata": {
        "colab": {
          "base_uri": "https://localhost:8080/"
        },
        "id": "5fmvdPlKjgvO",
        "outputId": "ebc96aab-19dc-40d3-abcc-caeeb2291f7c"
      },
      "source": [
        "#Q50mathモジュールをインポートして，θ=π2の下で，sinθ2+ cosθ2=1.0の値を出力してください．\n",
        "#期待する出力：1.0\n",
        "import math\n",
        "theta = math.pi / 2\n",
        "ans = math.sin(theta)**2 + math.cos(theta)**2\n",
        "print(ans)"
      ],
      "execution_count": 51,
      "outputs": [
        {
          "output_type": "stream",
          "text": [
            "1.0\n"
          ],
          "name": "stdout"
        }
      ]
    },
    {
      "cell_type": "code",
      "metadata": {
        "id": "UWOvfqOEo3nd"
      },
      "source": [
        ""
      ],
      "execution_count": null,
      "outputs": []
    }
  ]
}